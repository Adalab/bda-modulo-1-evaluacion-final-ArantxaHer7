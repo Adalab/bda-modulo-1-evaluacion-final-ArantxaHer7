{
 "cells": [
  {
   "cell_type": "markdown",
   "id": "c4a3173d",
   "metadata": {},
   "source": [
    "##### . Evaluación Final Módulo 1 #####\n",
    "\n",
    "\n"
   ]
  },
  {
   "cell_type": "markdown",
   "id": "c34e9035",
   "metadata": {},
   "source": [
    "### 1. `inventario` (lista de diccionarios): Una estructura para almacenar los productos en el inventario. Cada producto debe ser representado como un diccionario con las siguientes claves: `'nombre'`, `'precio'`, y `'cantidad'`. Al principio deberá ser una lista vacía. \n",
    "\n",
    "#. (Explicación: El inventario será una lista de diccionarios.)\n",
    "\n",
    "Ejemplo de como debería ser: \n",
    " \n",
    "```python [{'nombre': 'Camisa', 'precio': 20, 'cantidad': 40}, {'nombre': 'Pantalón', 'precio': 30, 'cantidad': 30}] ```"
   ]
  },
  {
   "cell_type": "markdown",
   "id": "224f6394",
   "metadata": {},
   "source": [
    "### 2. `clientes` (diccionario): Una estructura para llevar un registro de los clientes de la tienda. Cada cliente debe ser representado como un diccionario con las siguientes claves: `'nombre'` y `'email'`. Al inicio deberá ser un diccionario vacío. Además, cada cliente debe tener un historial de compras.`\n",
    "\n",
    "\n",
    "Deberá parecerse a:\n",
    "\n",
    "```python {'Cliente1': {'email': 'cliente1@email.com', 'compras': []},'Cliente2': {'email': 'cliente2@email.com', 'compras': []}} ``"
   ]
  },
  {
   "cell_type": "code",
   "execution_count": 655,
   "id": "9e979be2",
   "metadata": {},
   "outputs": [],
   "source": [
    "clientes={}"
   ]
  },
  {
   "cell_type": "markdown",
   "id": "bfc366f5",
   "metadata": {},
   "source": [
    "### 3. 3. `ventas_totales` (float): Una variable para llevar un registro de las ventas totales de la tienda. Inicializalo con valor 0."
   ]
  },
  {
   "cell_type": "code",
   "execution_count": 656,
   "id": "e5aecd41",
   "metadata": {},
   "outputs": [],
   "source": [
    "ventas_totales=0.0"
   ]
  },
  {
   "cell_type": "code",
   "execution_count": 657,
   "id": "c760c6eb",
   "metadata": {},
   "outputs": [],
   "source": [
    "##1. agregar_producto(nombre, precio, cantidad). Esta función agrega un producto al inventario o actualiza su cantidad si ya existe. Debe recibir el nombre, precio y cantidad del producto como parámetros.\n",
    "# - Itera a través del inventario y compara los nombres de los productos con el nombre proporcionado.\n",
    "# - Si el producto ya existe, actualiza la cantidad.\n",
    "# Si no existe, agrega un nuevo producto al inventario."
   ]
  },
  {
   "cell_type": "code",
   "execution_count": 658,
   "id": "5c83f02b",
   "metadata": {},
   "outputs": [],
   "source": [
    "inventario= []"
   ]
  },
  {
   "cell_type": "code",
   "execution_count": 659,
   "id": "2e3e4916",
   "metadata": {},
   "outputs": [],
   "source": [
    "def agregar_producto(nombre, precio, cantidad):\n",
    "    for producto in inventario:\n",
    "        if producto[\"nombre\"]== nombre:\n",
    "            print(f\"El producto {nombre} ya esta en nuestro inventario\")\n",
    "            producto[\"cantidad\"]+= cantidad\n",
    "            break\n",
    "\n",
    "    else: \n",
    "        inventario.append({\"nombre\": nombre, \"precio\": precio, \"cantidad\":cantidad})\n",
    "    return"
   ]
  },
  {
   "cell_type": "code",
   "execution_count": 660,
   "id": "df05279c",
   "metadata": {},
   "outputs": [],
   "source": [
    "agregar_producto(\"camisa\",40,30)"
   ]
  },
  {
   "cell_type": "code",
   "execution_count": 661,
   "id": "4221bb84",
   "metadata": {},
   "outputs": [],
   "source": [
    "agregar_producto(\"pantalon\",70,50)"
   ]
  },
  {
   "cell_type": "code",
   "execution_count": 662,
   "id": "324d463c",
   "metadata": {},
   "outputs": [
    {
     "name": "stdout",
     "output_type": "stream",
     "text": [
      "[{'nombre': 'camisa', 'precio': 40, 'cantidad': 30}, {'nombre': 'pantalon', 'precio': 70, 'cantidad': 50}]\n"
     ]
    }
   ],
   "source": [
    "print(inventario)"
   ]
  },
  {
   "cell_type": "code",
   "execution_count": 663,
   "id": "87362ef1",
   "metadata": {},
   "outputs": [],
   "source": [
    "agregar_producto(\"zapatos\",40 ,20)"
   ]
  },
  {
   "cell_type": "code",
   "execution_count": 664,
   "id": "ab52cf5a",
   "metadata": {},
   "outputs": [
    {
     "name": "stdout",
     "output_type": "stream",
     "text": [
      "[{'nombre': 'camisa', 'precio': 40, 'cantidad': 30}, {'nombre': 'pantalon', 'precio': 70, 'cantidad': 50}, {'nombre': 'zapatos', 'precio': 40, 'cantidad': 20}]\n"
     ]
    }
   ],
   "source": [
    "print(inventario)"
   ]
  },
  {
   "cell_type": "markdown",
   "id": "d433cd76",
   "metadata": {},
   "source": [
    "## 2. `ver_inventario()`: Muestra el inventario de productos con sus detalles. Utiliza un bucle `for` para recorrer el inventario.\n",
    "- Imprime los detalles (nombre, precio, cantidad) de cada producto.\n",
    "- Debería verse:\n",
    "- ```python Nombre: Camisa, Precio: $20, Cantidad: 50 Nombre: Pantalón, Precio: $30, Cantidad: 30 Nombre: Zapatos, Precio: $50, Cantidad: 40 Nombre: Camisa, Precio: $20, Cantidad: 50"
   ]
  },
  {
   "cell_type": "code",
   "execution_count": 665,
   "id": "b2470a68",
   "metadata": {},
   "outputs": [],
   "source": [
    "def ver_inventario():\n",
    "    for producto in inventario:\n",
    "        print(f\"El nombre del producto es {producto['nombre']} y su cantidad es {producto['cantidad']} y su precio es {producto['precio']}\")    \n",
    "    return"
   ]
  },
  {
   "cell_type": "code",
   "execution_count": 666,
   "id": "014b1ca3",
   "metadata": {},
   "outputs": [
    {
     "name": "stdout",
     "output_type": "stream",
     "text": [
      "El nombre del producto es camisa y su cantidad es 30 y su precio es 40\n",
      "El nombre del producto es pantalon y su cantidad es 50 y su precio es 70\n",
      "El nombre del producto es zapatos y su cantidad es 20 y su precio es 40\n"
     ]
    }
   ],
   "source": [
    "ver_inventario()"
   ]
  },
  {
   "cell_type": "markdown",
   "id": "b9fac727",
   "metadata": {},
   "source": [
    "## 3. `buscar_producto(nombre)`: Busca un producto en el inventario por nombre y muestra sus detalles si se encuentra. Debe recibir el nombre del producto\n",
    "como parámetro.\n",
    "\n",
    "- Utiliza un bucle `for` para recorrer el inventario.\n",
    "- Compara los nombres de los productos con el nombre proporcionado.\n",
    "- Si se encuentra el producto, imprime sus detalles.\n",
    "- Debe mostrar:\n",
    "```python\n",
    "Nombre: Camisa, Precio: $20, Cantidad: 40\n",
    "\n"
   ]
  },
  {
   "cell_type": "code",
   "execution_count": 667,
   "id": "ee8c47f5",
   "metadata": {},
   "outputs": [],
   "source": [
    "def buscar_producto(nombre):\n",
    "    for producto in inventario:\n",
    "        if producto[\"nombre\"] == nombre:\n",
    "            print(f\"El nombre del producto es: {producto['nombre']}, su cantidad es: {producto['cantidad']} y su precio es: {producto['precio']}\")\n",
    "            break\n",
    "    else:\n",
    "        print(\"Producto no encontrado.\")\n",
    "    return\n",
    "\n",
    "        \n",
    "        "
   ]
  },
  {
   "cell_type": "code",
   "execution_count": 668,
   "id": "e813e222",
   "metadata": {},
   "outputs": [
    {
     "name": "stdout",
     "output_type": "stream",
     "text": [
      "El nombre del producto es: camisa, su cantidad es: 30 y su precio es: 40\n"
     ]
    }
   ],
   "source": [
    "buscar_producto('camisa') "
   ]
  },
  {
   "cell_type": "code",
   "execution_count": 669,
   "id": "3e4cec84",
   "metadata": {},
   "outputs": [
    {
     "name": "stdout",
     "output_type": "stream",
     "text": [
      "El nombre del producto es: zapatos, su cantidad es: 20 y su precio es: 40\n"
     ]
    }
   ],
   "source": [
    "buscar_producto('zapatos')"
   ]
  },
  {
   "cell_type": "markdown",
   "id": "bed01609",
   "metadata": {},
   "source": [
    "## 4. `actualizar_stock(nombre, cantidad)`: Actualiza el stock de un producto en el inventario. Debe recibir el nombre del producto y la cantidad a agregar o quitar como parámetros.\n",
    "- Utiliza un bucle `for` para recorrer el inventario.\n",
    "- Busca el producto por nombre.\n",
    "- Actualiza la cantidad según la entrada del usuario.\n",
    "- Si el producto no esta en el inventario muestra un mensaje\n",
    "indicándolo."
   ]
  },
  {
   "cell_type": "code",
   "execution_count": 670,
   "id": "898ce443",
   "metadata": {},
   "outputs": [],
   "source": [
    "def actualizar_stock(nombre, cantidad):\n",
    "    for producto in inventario:\n",
    "        if producto[\"nombre\"] == nombre:\n",
    "            producto[\"cantidad\"] += cantidad  # Actualizamos la cantidad\n",
    "            print(f\"Stock actualizado. Ahora '{producto['nombre']}' tiene {producto['cantidad']} unidades.\")\n",
    "            return\n",
    "      # Terminamos la función si encontramos el producto y actualizamos el stock\n",
    "    \n",
    "    # Si no encontramos el producto, avisamos\n",
    "    print(f\"Producto '{nombre}' no encontrado en el inventario.\")\n",
    "    "
   ]
  },
  {
   "cell_type": "code",
   "execution_count": 671,
   "id": "d789cfee",
   "metadata": {},
   "outputs": [
    {
     "name": "stdout",
     "output_type": "stream",
     "text": [
      "Stock actualizado. Ahora 'pantalon' tiene 70 unidades.\n"
     ]
    }
   ],
   "source": [
    "actualizar_stock(\"pantalon\",20)"
   ]
  },
  {
   "cell_type": "code",
   "execution_count": 672,
   "id": "146f3a7a",
   "metadata": {},
   "outputs": [
    {
     "name": "stdout",
     "output_type": "stream",
     "text": [
      "Stock actualizado. Ahora 'camisa' tiene 60 unidades.\n"
     ]
    }
   ],
   "source": [
    "actualizar_stock(\"camisa\",30)"
   ]
  },
  {
   "cell_type": "code",
   "execution_count": 673,
   "id": "8cc46954",
   "metadata": {},
   "outputs": [
    {
     "name": "stdout",
     "output_type": "stream",
     "text": [
      "El nombre del producto es camisa y su cantidad es 60 y su precio es 40\n",
      "El nombre del producto es pantalon y su cantidad es 70 y su precio es 70\n",
      "El nombre del producto es zapatos y su cantidad es 20 y su precio es 40\n"
     ]
    }
   ],
   "source": [
    "ver_inventario()"
   ]
  },
  {
   "cell_type": "code",
   "execution_count": 674,
   "id": "e937e5ca",
   "metadata": {},
   "outputs": [],
   "source": [
    "agregar_producto(\"camisas\",40 ,20)"
   ]
  },
  {
   "cell_type": "code",
   "execution_count": 675,
   "id": "51cc112e",
   "metadata": {},
   "outputs": [
    {
     "name": "stdout",
     "output_type": "stream",
     "text": [
      "El nombre del producto es camisa y su cantidad es 60 y su precio es 40\n",
      "El nombre del producto es pantalon y su cantidad es 70 y su precio es 70\n",
      "El nombre del producto es zapatos y su cantidad es 20 y su precio es 40\n",
      "El nombre del producto es camisas y su cantidad es 20 y su precio es 40\n"
     ]
    }
   ],
   "source": [
    "ver_inventario()"
   ]
  },
  {
   "cell_type": "markdown",
   "id": "9e77d495",
   "metadata": {},
   "source": [
    "### 5. `eliminar_producto(nombre)`: Elimina un producto del inventario por nombre. \n",
    "- Debe recibir el nombre del producto como parámetro. \n",
    "- Utiliza un bucle `for` para recorrer el inventario.\n",
    "- Busca el producto por nombre.\n",
    "- Elimina el producto del inventario si existe.\n",
    "- Si el producto no esta en el inventario muestra un mensaje indicándolo."
   ]
  },
  {
   "cell_type": "code",
   "execution_count": 676,
   "id": "eafdbef8",
   "metadata": {},
   "outputs": [],
   "source": [
    "def eliminar_producto (nombre):\n",
    "    for producto in inventario:\n",
    "        if producto[\"nombre\"]==nombre:\n",
    "            inventario.remove(producto)\n",
    "            print(f\"El producto {nombre}, esta duplicado. Por lo tanto queda eliminado.\")\n",
    "            return\n",
    "    else:\n",
    "        print(f\"Producto '{nombre}' no encontrado en el inventario.\")\n",
    "    "
   ]
  },
  {
   "cell_type": "code",
   "execution_count": 677,
   "id": "c0288e8a",
   "metadata": {},
   "outputs": [
    {
     "name": "stdout",
     "output_type": "stream",
     "text": [
      "El producto camisa, esta duplicado. Por lo tanto queda eliminado.\n"
     ]
    }
   ],
   "source": [
    "eliminar_producto('camisa') "
   ]
  },
  {
   "cell_type": "code",
   "execution_count": 678,
   "id": "4bb435d8",
   "metadata": {},
   "outputs": [
    {
     "name": "stdout",
     "output_type": "stream",
     "text": [
      "Producto 'pañuelo' no encontrado en el inventario.\n"
     ]
    }
   ],
   "source": [
    "eliminar_producto(\"pañuelo\")"
   ]
  },
  {
   "cell_type": "code",
   "execution_count": 679,
   "id": "c00f10fd",
   "metadata": {},
   "outputs": [
    {
     "name": "stdout",
     "output_type": "stream",
     "text": [
      "[{'nombre': 'pantalon', 'precio': 70, 'cantidad': 70}, {'nombre': 'zapatos', 'precio': 40, 'cantidad': 20}, {'nombre': 'camisas', 'precio': 40, 'cantidad': 20}]\n"
     ]
    }
   ],
   "source": [
    "print(inventario)"
   ]
  },
  {
   "cell_type": "markdown",
   "id": "fbaf12a6",
   "metadata": {},
   "source": [
    "## 6. `calcular_valor_inventario()`: Calcula y muestra el valor total del inventario.\n",
    "\n",
    "- Utiliza un bucle for para calcular el valor total del inventario.\n",
    "- Itera a través del inventario y suma el valor de cada producto\n",
    "(precio x cantidad). Es decir, calcula el valor total del inventario.\n",
    "\n",
    "Ejemplo: \n",
    "```python\n",
    "# si tenemos 5 camisas que valen 5 euros y 10 calcetines que valen 1 euro este método te tiene que devolver: 35 euros\n",
    "\n",
    "valor_camisas = 5 * 5\n",
    "valor_calcetines = 10 * 1\n",
    "valor_camisas + valor_calcetines = 35"
   ]
  },
  {
   "cell_type": "code",
   "execution_count": 680,
   "id": "d8a11d10",
   "metadata": {},
   "outputs": [],
   "source": [
    "def calcular_valor_inventario(inventario):\n",
    "    valor_total = 0\n",
    "    for producto in inventario:\n",
    "        precio = inventario[producto]['precio']\n",
    "        cantidad = inventario[producto]['cantidad']\n",
    "        valor_total += precio * cantidad\n",
    "        \n",
    "    print(f\"El valor total del inventario es: {valor_total} euros\")\n",
    "    return"
   ]
  },
  {
   "cell_type": "code",
   "execution_count": 681,
   "id": "38431da4",
   "metadata": {},
   "outputs": [],
   "source": [
    "inventario = {'camisas': {'precio': 10, 'cantidad': 5},\n",
    "    'calcetines': {'precio': 1, 'cantidad': 10}}\n"
   ]
  },
  {
   "cell_type": "code",
   "execution_count": 682,
   "id": "4c1abfbc",
   "metadata": {},
   "outputs": [
    {
     "name": "stdout",
     "output_type": "stream",
     "text": [
      "El valor total del inventario es: 60 euros\n"
     ]
    }
   ],
   "source": [
    "calcular_valor_inventario(inventario)"
   ]
  },
  {
   "cell_type": "markdown",
   "id": "f0111198",
   "metadata": {},
   "source": [
    "## 7. `realizar_compra()`: Permite a un cliente realizar una compra seleccionando productos del inventario. \n",
    "- Debe interactuar con el cliente para seleccionar productos y calcular el costo total de la compra.\n",
    "- Utiliza un bucle `while` para permitir al cliente realizar múltiples\n",
    "compras.\n",
    "- Muestra el inventario y solicita al cliente ingresar el nombre del\n",
    "producto que desea comprar.\n",
    "- Registra los productos seleccionados en un carrito y actualiza el\n",
    "inventario.\n",
    "- Calcula el costo total de la compra."
   ]
  },
  {
   "cell_type": "code",
   "execution_count": 683,
   "id": "74314135",
   "metadata": {},
   "outputs": [],
   "source": [
    "### Una lista vacía llamada carrito, donde guardaremos los productos que la persona va comprando.\n",
    "\n",
    "### Un número llamado total, que empezamos en 0, y que va a sumar lo que debe pagar.\n",
    "\n"
   ]
  },
  {
   "cell_type": "code",
   "execution_count": 684,
   "id": "455a6f5f",
   "metadata": {},
   "outputs": [
    {
     "name": "stdout",
     "output_type": "stream",
     "text": [
      "{'camisas': {'precio': 10, 'cantidad': 5}, 'calcetines': {'precio': 1, 'cantidad': 10}}\n"
     ]
    }
   ],
   "source": [
    "print(inventario)"
   ]
  },
  {
   "cell_type": "code",
   "execution_count": 685,
   "id": "2e7a22f2",
   "metadata": {},
   "outputs": [],
   "source": [
    "def realizar_compra(inventario):\n",
    "    carrito = []  # Lista para registrar los productos comprados\n",
    "    total_compra = 0  # Variable para acumular el total de la compra\n",
    "    ver_inventario()\n",
    "    while True:\n",
    "        # Mostrar el inventario\n",
    "        print(inventario)\n",
    "        # Pedir al cliente que ingrese el nombre del producto\n",
    "        nombre_producto = input(\"¿Qué producto quieres comprar? (escribe 'salir' para terminar)\")\n",
    "       \n",
    "\n",
    "\n",
    "        # Si el cliente escribe 'salir', terminamos el bucle\n",
    "        if nombre_producto.lower() == 'salir':\n",
    "            print(\"¡Gracias por tu compra!\")\n",
    "            break\n",
    "\n",
    "\n",
    "        # Buscar el producto en el inventario\n",
    "        cantidad= int(input(\"¿Que cantidad?\"))\n",
    "        producto_encontrado = None\n",
    "\n",
    "\n",
    "        for producto in inventario:\n",
    "               \n",
    "            if producto[\"nombre\"].lower() == nombre_producto.lower():\n",
    "                producto_encontrado = producto\n",
    "            else:\n",
    "                # Agregar al carrito y actualizar inventario\n",
    "                carrito.append((producto_encontrado['nombre'], cantidad, producto_encontrado['precio']))\n",
    "                producto_encontrado[\"cantidad\"] -= cantidad    \n",
    "                break\n",
    "        # Si no lo encontramos, avisamos\n",
    "            if producto_encontrado is None:\n",
    "                print(\"Producto no encontrado o agotado.\")\n",
    "       \n",
    "            if cantidad > producto_encontrado[\"cantidad\"]:\n",
    "                print(f\"No hay suficiente stock. Solo hay {producto_encontrado['cantidad']} disponibles.\")\n",
    "            else:\n",
    "                # Agregar al carrito y actualizar inventario\n",
    "                carrito.append((producto_encontrado['nombre'], cantidad, producto_encontrado['precio']))\n",
    "                producto_encontrado[\"cantidad\"] -= cantidad\n",
    "                 \n",
    "            # Calcular el costo total\n",
    "            total_compra += cantidad * producto_encontrado['precio']\n",
    "            print(f\"¡Has añadido {cantidad} {producto_encontrado['nombre']} a tu carrito!\")\n",
    "\n",
    "\n",
    "    # Mostrar el total de la compra y los productos comprados\n",
    "            print(\"Resumen de tu compra\")\n",
    "    for producto, cantidad, precio in carrito:\n",
    "                print(f\"{producto} x {cantidad} = {cantidad * precio}€\")\n",
    "   \n",
    "                print(f\"El total de tu compra es: {total_compra}€\")\n",
    "\n"
   ]
  },
  {
   "cell_type": "code",
   "execution_count": 686,
   "id": "d895de49",
   "metadata": {},
   "outputs": [
    {
     "ename": "TypeError",
     "evalue": "string indices must be integers, not 'str'",
     "output_type": "error",
     "traceback": [
      "\u001b[1;31m---------------------------------------------------------------------------\u001b[0m",
      "\u001b[1;31mTypeError\u001b[0m                                 Traceback (most recent call last)",
      "Cell \u001b[1;32mIn[686], line 1\u001b[0m\n\u001b[1;32m----> 1\u001b[0m realizar_compra(inventario)\n",
      "Cell \u001b[1;32mIn[685], line 4\u001b[0m, in \u001b[0;36mrealizar_compra\u001b[1;34m(inventario)\u001b[0m\n\u001b[0;32m      2\u001b[0m carrito \u001b[38;5;241m=\u001b[39m []  \u001b[38;5;66;03m# Lista para registrar los productos comprados\u001b[39;00m\n\u001b[0;32m      3\u001b[0m total_compra \u001b[38;5;241m=\u001b[39m \u001b[38;5;241m0\u001b[39m  \u001b[38;5;66;03m# Variable para acumular el total de la compra\u001b[39;00m\n\u001b[1;32m----> 4\u001b[0m ver_inventario()\n\u001b[0;32m      5\u001b[0m \u001b[38;5;28;01mwhile\u001b[39;00m \u001b[38;5;28;01mTrue\u001b[39;00m:\n\u001b[0;32m      6\u001b[0m     \u001b[38;5;66;03m# Mostrar el inventario\u001b[39;00m\n\u001b[0;32m      7\u001b[0m     \u001b[38;5;28mprint\u001b[39m(inventario)\n",
      "Cell \u001b[1;32mIn[665], line 3\u001b[0m, in \u001b[0;36mver_inventario\u001b[1;34m()\u001b[0m\n\u001b[0;32m      1\u001b[0m \u001b[38;5;28;01mdef\u001b[39;00m \u001b[38;5;21mver_inventario\u001b[39m():\n\u001b[0;32m      2\u001b[0m     \u001b[38;5;28;01mfor\u001b[39;00m producto \u001b[38;5;129;01min\u001b[39;00m inventario:\n\u001b[1;32m----> 3\u001b[0m         \u001b[38;5;28mprint\u001b[39m(\u001b[38;5;124mf\u001b[39m\u001b[38;5;124m\"\u001b[39m\u001b[38;5;124mEl nombre del producto es \u001b[39m\u001b[38;5;132;01m{\u001b[39;00mproducto[\u001b[38;5;124m'\u001b[39m\u001b[38;5;124mnombre\u001b[39m\u001b[38;5;124m'\u001b[39m]\u001b[38;5;132;01m}\u001b[39;00m\u001b[38;5;124m y su cantidad es \u001b[39m\u001b[38;5;132;01m{\u001b[39;00mproducto[\u001b[38;5;124m'\u001b[39m\u001b[38;5;124mcantidad\u001b[39m\u001b[38;5;124m'\u001b[39m]\u001b[38;5;132;01m}\u001b[39;00m\u001b[38;5;124m y su precio es \u001b[39m\u001b[38;5;132;01m{\u001b[39;00mproducto[\u001b[38;5;124m'\u001b[39m\u001b[38;5;124mprecio\u001b[39m\u001b[38;5;124m'\u001b[39m]\u001b[38;5;132;01m}\u001b[39;00m\u001b[38;5;124m\"\u001b[39m)    \n\u001b[0;32m      4\u001b[0m     \u001b[38;5;28;01mreturn\u001b[39;00m\n",
      "\u001b[1;31mTypeError\u001b[0m: string indices must be integers, not 'str'"
     ]
    }
   ],
   "source": [
    "realizar_compra(inventario)"
   ]
  }
 ],
 "metadata": {
  "kernelspec": {
   "display_name": "base",
   "language": "python",
   "name": "python3"
  },
  "language_info": {
   "codemirror_mode": {
    "name": "ipython",
    "version": 3
   },
   "file_extension": ".py",
   "mimetype": "text/x-python",
   "name": "python",
   "nbconvert_exporter": "python",
   "pygments_lexer": "ipython3",
   "version": "3.12.7"
  }
 },
 "nbformat": 4,
 "nbformat_minor": 5
}
